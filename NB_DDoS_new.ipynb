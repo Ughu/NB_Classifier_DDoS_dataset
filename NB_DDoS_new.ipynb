{
 "cells": [
  {
   "cell_type": "code",
   "execution_count": 1,
   "id": "19f6f959",
   "metadata": {},
   "outputs": [],
   "source": [
    "import pandas as pd\n",
    "import numpy as np\n",
    "import seaborn as sns\n",
    "import matplotlib.pyplot as plt\n",
    "import gc\n",
    "\n"
   ]
  },
  {
   "cell_type": "code",
   "execution_count": 2,
   "id": "a9354ab1",
   "metadata": {},
   "outputs": [],
   "source": [
    "dtypes = {\n",
    "    'Src IP': 'category',\n",
    "    'Src Port': 'uint16',\n",
    "    'Dst IP': 'category',\n",
    "    'Dst Port': 'uint16',\n",
    "    'Protocol': 'int64',\n",
    "    'Flow Duration': 'uint32',\n",
    "    'Tot Fwd Pkts': 'uint32',\n",
    "    'Tot Bwd Pkts': 'uint32',\n",
    "    'TotLen Fwd Pkts': 'float32',\n",
    "    'TotLen Bwd Pkts': 'float32',\n",
    "    'Fwd Pkt Len Max': 'float32',\n",
    "    'Fwd Pkt Len Min': 'float32',\n",
    "    'Fwd Pkt Len Mean': 'float32',\n",
    "    'Fwd Pkt Len Std': 'float32',\n",
    "    'Bwd Pkt Len Max': 'float32',\n",
    "    'Bwd Pkt Len Min': 'float32',\n",
    "    'Bwd Pkt Len Mean': 'float32',\n",
    "    'Bwd Pkt Len Std': 'float32',\n",
    "    'Flow Byts/s': 'float32',\n",
    "    'Flow Pkts/s': 'float32',\n",
    "    'Flow IAT Mean': 'float32',\n",
    "    'Flow IAT Std': 'float32',\n",
    "    'Flow IAT Max': 'float32',\n",
    "    'Flow IAT Min': 'float32',\n",
    "    'Fwd IAT Tot': 'float32',\n",
    "    'Fwd IAT Mean': 'float32',\n",
    "    'Fwd IAT Std': 'float32',\n",
    "    'Fwd IAT Max': 'float32',\n",
    "    'Fwd IAT Min': 'float32',\n",
    "    'Bwd IAT Tot': 'float32',\n",
    "    'Bwd IAT Mean': 'float32',\n",
    "    'Bwd IAT Std': 'float32',\n",
    "    'Bwd IAT Max': 'float32',\n",
    "    'Bwd IAT Min': 'float32',\n",
    "    'Fwd PSH Flags': 'category',\n",
    "    'Bwd PSH Flags': 'category',\n",
    "    'Fwd URG Flags': 'category',\n",
    "    'Bwd URG Flags': 'category',\n",
    "    'Fwd Header Len': 'uint32',\n",
    "    'Bwd Header Len': 'uint32',\n",
    "    'Fwd Pkts/s': 'float32',\n",
    "    'Bwd Pkts/s': 'float32',\n",
    "    'Pkt Len Min': 'float32',\n",
    "    'Pkt Len Max': 'float32',\n",
    "    'Pkt Len Mean': 'float32',\n",
    "    'Pkt Len Std': 'float32',\n",
    "    'Pkt Len Var': 'float32',\n",
    "    'FIN Flag Cnt': 'int64',\n",
    "    'SYN Flag Cnt': 'int64',\n",
    "    'RST Flag Cnt': 'int64',\n",
    "    'PSH Flag Cnt': 'int64',\n",
    "    'ACK Flag Cnt': 'int64',\n",
    "    'URG Flag Cnt': 'int64',\n",
    "    'CWE Flag Count': 'int64',\n",
    "    'ECE Flag Cnt': 'int64',\n",
    "    'Down/Up Ratio': 'float32',\n",
    "    'Pkt Size Avg': 'float32',\n",
    "    'Fwd Seg Size Avg': 'float32',\n",
    "    'Bwd Seg Size Avg': 'float32',\n",
    "    'Fwd Byts/b Avg': 'uint32',\n",
    "    'Fwd Pkts/b Avg': 'uint32',\n",
    "    'Fwd Blk Rate Avg': 'uint32',\n",
    "    'Bwd Byts/b Avg': 'uint32',\n",
    "    'Bwd Pkts/b Avg': 'uint32',\n",
    "    'Bwd Blk Rate Avg': 'uint32',\n",
    "    'Subflow Fwd Pkts': 'uint32',\n",
    "    'Subflow Fwd Byts': 'uint32',\n",
    "    'Subflow Bwd Pkts': 'uint32',\n",
    "    'Subflow Bwd Byts': 'uint32',\n",
    "    'Init Fwd Win Byts': 'uint32',\n",
    "    'Init Bwd Win Byts': 'uint32',\n",
    "    'Fwd Act Data Pkts': 'uint32',\n",
    "    'Fwd Seg Size Min': 'uint32',\n",
    "    'Active Mean': 'float32',\n",
    "    'Active Std': 'float32',\n",
    "    'Active Max': 'float32',\n",
    "    'Active Min': 'float32',\n",
    "    'Idle Mean': 'float32',\n",
    "    'Idle Std': 'float32',\n",
    "    'Idle Max': 'float32',\n",
    "    'Idle Min': 'float32',\n",
    "    'Label': 'category'\n",
    "}"
   ]
  },
  {
   "cell_type": "code",
   "execution_count": 3,
   "id": "f1b5b5ee",
   "metadata": {},
   "outputs": [
    {
     "data": {
      "text/plain": [
       "0"
      ]
     },
     "execution_count": 3,
     "metadata": {},
     "output_type": "execute_result"
    }
   ],
   "source": [
    "df = pd.read_csv(\n",
    "    'small_dataset.csv',\n",
    "    dtype=dtypes,\n",
    "    parse_dates=['Timestamp'],\n",
    "    usecols=[*dtypes.keys(), 'Timestamp'],\n",
    "    engine='c',\n",
    "    low_memory=True\n",
    ")\n",
    "del dtypes\n",
    "gc.collect()"
   ]
  },
  {
   "cell_type": "code",
   "execution_count": 4,
   "id": "440d7e41",
   "metadata": {},
   "outputs": [
    {
     "name": "stderr",
     "output_type": "stream",
     "text": [
      "C:\\Users\\Gabriel Molina\\Anaconda3\\lib\\site-packages\\ipykernel_launcher.py:1: FutureWarning: Treating datetime data as categorical rather than numeric in `.describe` is deprecated and will be removed in a future version of pandas. Specify `datetime_is_numeric=True` to silence this warning and adopt the future behavior now.\n",
      "  \"\"\"Entry point for launching an IPython kernel.\n"
     ]
    },
    {
     "data": {
      "text/html": [
       "<div>\n",
       "<style scoped>\n",
       "    .dataframe tbody tr th:only-of-type {\n",
       "        vertical-align: middle;\n",
       "    }\n",
       "\n",
       "    .dataframe tbody tr th {\n",
       "        vertical-align: top;\n",
       "    }\n",
       "\n",
       "    .dataframe thead th {\n",
       "        text-align: right;\n",
       "    }\n",
       "</style>\n",
       "<table border=\"1\" class=\"dataframe\">\n",
       "  <thead>\n",
       "    <tr style=\"text-align: right;\">\n",
       "      <th></th>\n",
       "      <th>Src IP</th>\n",
       "      <th>Src Port</th>\n",
       "      <th>Dst IP</th>\n",
       "      <th>Dst Port</th>\n",
       "      <th>Protocol</th>\n",
       "      <th>Timestamp</th>\n",
       "      <th>Flow Duration</th>\n",
       "      <th>Tot Fwd Pkts</th>\n",
       "      <th>Tot Bwd Pkts</th>\n",
       "      <th>TotLen Fwd Pkts</th>\n",
       "      <th>...</th>\n",
       "      <th>Fwd Seg Size Min</th>\n",
       "      <th>Active Mean</th>\n",
       "      <th>Active Std</th>\n",
       "      <th>Active Max</th>\n",
       "      <th>Active Min</th>\n",
       "      <th>Idle Mean</th>\n",
       "      <th>Idle Std</th>\n",
       "      <th>Idle Max</th>\n",
       "      <th>Idle Min</th>\n",
       "      <th>Label</th>\n",
       "    </tr>\n",
       "  </thead>\n",
       "  <tbody>\n",
       "    <tr>\n",
       "      <th>count</th>\n",
       "      <td>639731</td>\n",
       "      <td>639731.000000</td>\n",
       "      <td>639731</td>\n",
       "      <td>639731.000000</td>\n",
       "      <td>639731.000000</td>\n",
       "      <td>639731</td>\n",
       "      <td>6.397310e+05</td>\n",
       "      <td>639731.00000</td>\n",
       "      <td>639731.000000</td>\n",
       "      <td>6.397310e+05</td>\n",
       "      <td>...</td>\n",
       "      <td>639731.000000</td>\n",
       "      <td>6.397310e+05</td>\n",
       "      <td>6.397310e+05</td>\n",
       "      <td>6.397310e+05</td>\n",
       "      <td>6.397310e+05</td>\n",
       "      <td>6.397310e+05</td>\n",
       "      <td>6.397310e+05</td>\n",
       "      <td>6.397310e+05</td>\n",
       "      <td>639731.0</td>\n",
       "      <td>639731</td>\n",
       "    </tr>\n",
       "    <tr>\n",
       "      <th>unique</th>\n",
       "      <td>13011</td>\n",
       "      <td>NaN</td>\n",
       "      <td>12476</td>\n",
       "      <td>NaN</td>\n",
       "      <td>NaN</td>\n",
       "      <td>52614</td>\n",
       "      <td>NaN</td>\n",
       "      <td>NaN</td>\n",
       "      <td>NaN</td>\n",
       "      <td>NaN</td>\n",
       "      <td>...</td>\n",
       "      <td>NaN</td>\n",
       "      <td>NaN</td>\n",
       "      <td>NaN</td>\n",
       "      <td>NaN</td>\n",
       "      <td>NaN</td>\n",
       "      <td>NaN</td>\n",
       "      <td>NaN</td>\n",
       "      <td>NaN</td>\n",
       "      <td>NaN</td>\n",
       "      <td>2</td>\n",
       "    </tr>\n",
       "    <tr>\n",
       "      <th>top</th>\n",
       "      <td>172.31.69.25</td>\n",
       "      <td>NaN</td>\n",
       "      <td>172.31.69.25</td>\n",
       "      <td>NaN</td>\n",
       "      <td>NaN</td>\n",
       "      <td>2018-02-16 23:15:30</td>\n",
       "      <td>NaN</td>\n",
       "      <td>NaN</td>\n",
       "      <td>NaN</td>\n",
       "      <td>NaN</td>\n",
       "      <td>...</td>\n",
       "      <td>NaN</td>\n",
       "      <td>NaN</td>\n",
       "      <td>NaN</td>\n",
       "      <td>NaN</td>\n",
       "      <td>NaN</td>\n",
       "      <td>NaN</td>\n",
       "      <td>NaN</td>\n",
       "      <td>NaN</td>\n",
       "      <td>NaN</td>\n",
       "      <td>ddos</td>\n",
       "    </tr>\n",
       "    <tr>\n",
       "      <th>freq</th>\n",
       "      <td>88287</td>\n",
       "      <td>NaN</td>\n",
       "      <td>124089</td>\n",
       "      <td>NaN</td>\n",
       "      <td>NaN</td>\n",
       "      <td>416</td>\n",
       "      <td>NaN</td>\n",
       "      <td>NaN</td>\n",
       "      <td>NaN</td>\n",
       "      <td>NaN</td>\n",
       "      <td>...</td>\n",
       "      <td>NaN</td>\n",
       "      <td>NaN</td>\n",
       "      <td>NaN</td>\n",
       "      <td>NaN</td>\n",
       "      <td>NaN</td>\n",
       "      <td>NaN</td>\n",
       "      <td>NaN</td>\n",
       "      <td>NaN</td>\n",
       "      <td>NaN</td>\n",
       "      <td>323582</td>\n",
       "    </tr>\n",
       "    <tr>\n",
       "      <th>first</th>\n",
       "      <td>NaN</td>\n",
       "      <td>NaN</td>\n",
       "      <td>NaN</td>\n",
       "      <td>NaN</td>\n",
       "      <td>NaN</td>\n",
       "      <td>2010-06-13 00:12:34</td>\n",
       "      <td>NaN</td>\n",
       "      <td>NaN</td>\n",
       "      <td>NaN</td>\n",
       "      <td>NaN</td>\n",
       "      <td>...</td>\n",
       "      <td>NaN</td>\n",
       "      <td>NaN</td>\n",
       "      <td>NaN</td>\n",
       "      <td>NaN</td>\n",
       "      <td>NaN</td>\n",
       "      <td>NaN</td>\n",
       "      <td>NaN</td>\n",
       "      <td>NaN</td>\n",
       "      <td>NaN</td>\n",
       "      <td>NaN</td>\n",
       "    </tr>\n",
       "    <tr>\n",
       "      <th>last</th>\n",
       "      <td>NaN</td>\n",
       "      <td>NaN</td>\n",
       "      <td>NaN</td>\n",
       "      <td>NaN</td>\n",
       "      <td>NaN</td>\n",
       "      <td>2018-02-22 00:35:52</td>\n",
       "      <td>NaN</td>\n",
       "      <td>NaN</td>\n",
       "      <td>NaN</td>\n",
       "      <td>NaN</td>\n",
       "      <td>...</td>\n",
       "      <td>NaN</td>\n",
       "      <td>NaN</td>\n",
       "      <td>NaN</td>\n",
       "      <td>NaN</td>\n",
       "      <td>NaN</td>\n",
       "      <td>NaN</td>\n",
       "      <td>NaN</td>\n",
       "      <td>NaN</td>\n",
       "      <td>NaN</td>\n",
       "      <td>NaN</td>\n",
       "    </tr>\n",
       "    <tr>\n",
       "      <th>mean</th>\n",
       "      <td>NaN</td>\n",
       "      <td>37047.629019</td>\n",
       "      <td>NaN</td>\n",
       "      <td>14679.549157</td>\n",
       "      <td>7.832666</td>\n",
       "      <td>NaN</td>\n",
       "      <td>8.233124e+06</td>\n",
       "      <td>25.85420</td>\n",
       "      <td>4.788664</td>\n",
       "      <td>1.088719e+03</td>\n",
       "      <td>...</td>\n",
       "      <td>8.114830</td>\n",
       "      <td>1.360476e+05</td>\n",
       "      <td>6.798138e+04</td>\n",
       "      <td>2.027919e+05</td>\n",
       "      <td>9.028685e+04</td>\n",
       "      <td>3.135976e+06</td>\n",
       "      <td>1.086603e+05</td>\n",
       "      <td>3.231134e+06</td>\n",
       "      <td>3035654.5</td>\n",
       "      <td>NaN</td>\n",
       "    </tr>\n",
       "    <tr>\n",
       "      <th>std</th>\n",
       "      <td>NaN</td>\n",
       "      <td>25225.358253</td>\n",
       "      <td>NaN</td>\n",
       "      <td>23083.902778</td>\n",
       "      <td>4.208228</td>\n",
       "      <td>NaN</td>\n",
       "      <td>2.536118e+07</td>\n",
       "      <td>1677.08914</td>\n",
       "      <td>111.977101</td>\n",
       "      <td>5.367010e+04</td>\n",
       "      <td>...</td>\n",
       "      <td>9.140202</td>\n",
       "      <td>2.281528e+06</td>\n",
       "      <td>1.374610e+06</td>\n",
       "      <td>3.006596e+06</td>\n",
       "      <td>1.924374e+06</td>\n",
       "      <td>1.222223e+07</td>\n",
       "      <td>1.406997e+06</td>\n",
       "      <td>1.246532e+07</td>\n",
       "      <td>12113400.0</td>\n",
       "      <td>NaN</td>\n",
       "    </tr>\n",
       "    <tr>\n",
       "      <th>min</th>\n",
       "      <td>NaN</td>\n",
       "      <td>0.000000</td>\n",
       "      <td>NaN</td>\n",
       "      <td>0.000000</td>\n",
       "      <td>0.000000</td>\n",
       "      <td>NaN</td>\n",
       "      <td>0.000000e+00</td>\n",
       "      <td>0.00000</td>\n",
       "      <td>0.000000</td>\n",
       "      <td>0.000000e+00</td>\n",
       "      <td>...</td>\n",
       "      <td>0.000000</td>\n",
       "      <td>0.000000e+00</td>\n",
       "      <td>0.000000e+00</td>\n",
       "      <td>0.000000e+00</td>\n",
       "      <td>0.000000e+00</td>\n",
       "      <td>0.000000e+00</td>\n",
       "      <td>0.000000e+00</td>\n",
       "      <td>0.000000e+00</td>\n",
       "      <td>0.0</td>\n",
       "      <td>NaN</td>\n",
       "    </tr>\n",
       "    <tr>\n",
       "      <th>25%</th>\n",
       "      <td>NaN</td>\n",
       "      <td>443.000000</td>\n",
       "      <td>NaN</td>\n",
       "      <td>80.000000</td>\n",
       "      <td>6.000000</td>\n",
       "      <td>NaN</td>\n",
       "      <td>1.258000e+03</td>\n",
       "      <td>1.00000</td>\n",
       "      <td>1.000000</td>\n",
       "      <td>0.000000e+00</td>\n",
       "      <td>...</td>\n",
       "      <td>0.000000</td>\n",
       "      <td>0.000000e+00</td>\n",
       "      <td>0.000000e+00</td>\n",
       "      <td>0.000000e+00</td>\n",
       "      <td>0.000000e+00</td>\n",
       "      <td>0.000000e+00</td>\n",
       "      <td>0.000000e+00</td>\n",
       "      <td>0.000000e+00</td>\n",
       "      <td>0.0</td>\n",
       "      <td>NaN</td>\n",
       "    </tr>\n",
       "    <tr>\n",
       "      <th>50%</th>\n",
       "      <td>NaN</td>\n",
       "      <td>50579.000000</td>\n",
       "      <td>NaN</td>\n",
       "      <td>80.000000</td>\n",
       "      <td>6.000000</td>\n",
       "      <td>NaN</td>\n",
       "      <td>3.179300e+04</td>\n",
       "      <td>2.00000</td>\n",
       "      <td>1.000000</td>\n",
       "      <td>4.200000e+01</td>\n",
       "      <td>...</td>\n",
       "      <td>0.000000</td>\n",
       "      <td>0.000000e+00</td>\n",
       "      <td>0.000000e+00</td>\n",
       "      <td>0.000000e+00</td>\n",
       "      <td>0.000000e+00</td>\n",
       "      <td>0.000000e+00</td>\n",
       "      <td>0.000000e+00</td>\n",
       "      <td>0.000000e+00</td>\n",
       "      <td>0.0</td>\n",
       "      <td>NaN</td>\n",
       "    </tr>\n",
       "    <tr>\n",
       "      <th>75%</th>\n",
       "      <td>NaN</td>\n",
       "      <td>56215.000000</td>\n",
       "      <td>NaN</td>\n",
       "      <td>38665.500000</td>\n",
       "      <td>6.000000</td>\n",
       "      <td>NaN</td>\n",
       "      <td>4.156942e+06</td>\n",
       "      <td>4.00000</td>\n",
       "      <td>4.000000</td>\n",
       "      <td>9.350000e+02</td>\n",
       "      <td>...</td>\n",
       "      <td>20.000000</td>\n",
       "      <td>0.000000e+00</td>\n",
       "      <td>0.000000e+00</td>\n",
       "      <td>0.000000e+00</td>\n",
       "      <td>0.000000e+00</td>\n",
       "      <td>0.000000e+00</td>\n",
       "      <td>0.000000e+00</td>\n",
       "      <td>0.000000e+00</td>\n",
       "      <td>0.0</td>\n",
       "      <td>NaN</td>\n",
       "    </tr>\n",
       "    <tr>\n",
       "      <th>max</th>\n",
       "      <td>NaN</td>\n",
       "      <td>65535.000000</td>\n",
       "      <td>NaN</td>\n",
       "      <td>65534.000000</td>\n",
       "      <td>17.000000</td>\n",
       "      <td>NaN</td>\n",
       "      <td>4.294967e+09</td>\n",
       "      <td>243584.00000</td>\n",
       "      <td>21762.000000</td>\n",
       "      <td>7.794688e+06</td>\n",
       "      <td>...</td>\n",
       "      <td>44.000000</td>\n",
       "      <td>1.111296e+08</td>\n",
       "      <td>5.602070e+07</td>\n",
       "      <td>1.111296e+08</td>\n",
       "      <td>1.111296e+08</td>\n",
       "      <td>1.199993e+08</td>\n",
       "      <td>6.495828e+07</td>\n",
       "      <td>1.199993e+08</td>\n",
       "      <td>119999328.0</td>\n",
       "      <td>NaN</td>\n",
       "    </tr>\n",
       "  </tbody>\n",
       "</table>\n",
       "<p>13 rows × 83 columns</p>\n",
       "</div>"
      ],
      "text/plain": [
       "              Src IP       Src Port        Dst IP       Dst Port  \\\n",
       "count         639731  639731.000000        639731  639731.000000   \n",
       "unique         13011            NaN         12476            NaN   \n",
       "top     172.31.69.25            NaN  172.31.69.25            NaN   \n",
       "freq           88287            NaN        124089            NaN   \n",
       "first            NaN            NaN           NaN            NaN   \n",
       "last             NaN            NaN           NaN            NaN   \n",
       "mean             NaN   37047.629019           NaN   14679.549157   \n",
       "std              NaN   25225.358253           NaN   23083.902778   \n",
       "min              NaN       0.000000           NaN       0.000000   \n",
       "25%              NaN     443.000000           NaN      80.000000   \n",
       "50%              NaN   50579.000000           NaN      80.000000   \n",
       "75%              NaN   56215.000000           NaN   38665.500000   \n",
       "max              NaN   65535.000000           NaN   65534.000000   \n",
       "\n",
       "             Protocol            Timestamp  Flow Duration  Tot Fwd Pkts  \\\n",
       "count   639731.000000               639731   6.397310e+05  639731.00000   \n",
       "unique            NaN                52614            NaN           NaN   \n",
       "top               NaN  2018-02-16 23:15:30            NaN           NaN   \n",
       "freq              NaN                  416            NaN           NaN   \n",
       "first             NaN  2010-06-13 00:12:34            NaN           NaN   \n",
       "last              NaN  2018-02-22 00:35:52            NaN           NaN   \n",
       "mean         7.832666                  NaN   8.233124e+06      25.85420   \n",
       "std          4.208228                  NaN   2.536118e+07    1677.08914   \n",
       "min          0.000000                  NaN   0.000000e+00       0.00000   \n",
       "25%          6.000000                  NaN   1.258000e+03       1.00000   \n",
       "50%          6.000000                  NaN   3.179300e+04       2.00000   \n",
       "75%          6.000000                  NaN   4.156942e+06       4.00000   \n",
       "max         17.000000                  NaN   4.294967e+09  243584.00000   \n",
       "\n",
       "         Tot Bwd Pkts  TotLen Fwd Pkts  ...  Fwd Seg Size Min   Active Mean  \\\n",
       "count   639731.000000     6.397310e+05  ...     639731.000000  6.397310e+05   \n",
       "unique            NaN              NaN  ...               NaN           NaN   \n",
       "top               NaN              NaN  ...               NaN           NaN   \n",
       "freq              NaN              NaN  ...               NaN           NaN   \n",
       "first             NaN              NaN  ...               NaN           NaN   \n",
       "last              NaN              NaN  ...               NaN           NaN   \n",
       "mean         4.788664     1.088719e+03  ...          8.114830  1.360476e+05   \n",
       "std        111.977101     5.367010e+04  ...          9.140202  2.281528e+06   \n",
       "min          0.000000     0.000000e+00  ...          0.000000  0.000000e+00   \n",
       "25%          1.000000     0.000000e+00  ...          0.000000  0.000000e+00   \n",
       "50%          1.000000     4.200000e+01  ...          0.000000  0.000000e+00   \n",
       "75%          4.000000     9.350000e+02  ...         20.000000  0.000000e+00   \n",
       "max      21762.000000     7.794688e+06  ...         44.000000  1.111296e+08   \n",
       "\n",
       "          Active Std    Active Max    Active Min     Idle Mean      Idle Std  \\\n",
       "count   6.397310e+05  6.397310e+05  6.397310e+05  6.397310e+05  6.397310e+05   \n",
       "unique           NaN           NaN           NaN           NaN           NaN   \n",
       "top              NaN           NaN           NaN           NaN           NaN   \n",
       "freq             NaN           NaN           NaN           NaN           NaN   \n",
       "first            NaN           NaN           NaN           NaN           NaN   \n",
       "last             NaN           NaN           NaN           NaN           NaN   \n",
       "mean    6.798138e+04  2.027919e+05  9.028685e+04  3.135976e+06  1.086603e+05   \n",
       "std     1.374610e+06  3.006596e+06  1.924374e+06  1.222223e+07  1.406997e+06   \n",
       "min     0.000000e+00  0.000000e+00  0.000000e+00  0.000000e+00  0.000000e+00   \n",
       "25%     0.000000e+00  0.000000e+00  0.000000e+00  0.000000e+00  0.000000e+00   \n",
       "50%     0.000000e+00  0.000000e+00  0.000000e+00  0.000000e+00  0.000000e+00   \n",
       "75%     0.000000e+00  0.000000e+00  0.000000e+00  0.000000e+00  0.000000e+00   \n",
       "max     5.602070e+07  1.111296e+08  1.111296e+08  1.199993e+08  6.495828e+07   \n",
       "\n",
       "            Idle Max     Idle Min   Label  \n",
       "count   6.397310e+05     639731.0  639731  \n",
       "unique           NaN          NaN       2  \n",
       "top              NaN          NaN    ddos  \n",
       "freq             NaN          NaN  323582  \n",
       "first            NaN          NaN     NaN  \n",
       "last             NaN          NaN     NaN  \n",
       "mean    3.231134e+06    3035654.5     NaN  \n",
       "std     1.246532e+07   12113400.0     NaN  \n",
       "min     0.000000e+00          0.0     NaN  \n",
       "25%     0.000000e+00          0.0     NaN  \n",
       "50%     0.000000e+00          0.0     NaN  \n",
       "75%     0.000000e+00          0.0     NaN  \n",
       "max     1.199993e+08  119999328.0     NaN  \n",
       "\n",
       "[13 rows x 83 columns]"
      ]
     },
     "execution_count": 4,
     "metadata": {},
     "output_type": "execute_result"
    }
   ],
   "source": [
    "df.describe(include='all')"
   ]
  },
  {
   "cell_type": "code",
   "execution_count": 5,
   "id": "dac22349",
   "metadata": {},
   "outputs": [
    {
     "data": {
      "text/plain": [
       "(639731, 83)"
      ]
     },
     "execution_count": 5,
     "metadata": {},
     "output_type": "execute_result"
    }
   ],
   "source": [
    "df.shape"
   ]
  },
  {
   "cell_type": "code",
   "execution_count": 6,
   "id": "38d57d78",
   "metadata": {},
   "outputs": [
    {
     "name": "stdout",
     "output_type": "stream",
     "text": [
      "Memory usage of dataframe is 213.87 MB\n"
     ]
    }
   ],
   "source": [
    "mb = df.memory_usage().sum() / 1024**2\n",
    "print('Memory usage of dataframe is {:.2f} MB'.format(mb))"
   ]
  },
  {
   "cell_type": "code",
   "execution_count": 7,
   "id": "3a0f38f8",
   "metadata": {},
   "outputs": [
    {
     "data": {
      "text/plain": [
       "21"
      ]
     },
     "execution_count": 7,
     "metadata": {},
     "output_type": "execute_result"
    }
   ],
   "source": [
    "colsToDrop = np.array(['Src IP','Src Port','Dst IP','Dst Port','Fwd Byts/b Avg', 'Fwd Pkts/b Avg', 'Fwd Blk Rate Avg', 'Bwd Byts/b Avg', 'Bwd Pkts/b Avg', 'Bwd Blk Rate Avg'])\n",
    "gc.collect()"
   ]
  },
  {
   "cell_type": "code",
   "execution_count": 8,
   "id": "8ee6b83d",
   "metadata": {},
   "outputs": [
    {
     "data": {
      "text/plain": [
       "0"
      ]
     },
     "execution_count": 8,
     "metadata": {},
     "output_type": "execute_result"
    }
   ],
   "source": [
    "# counting unique values and checking for skewness in the data\n",
    "rowbuilder = lambda col: {'col': col, 'unique_values': df[col].nunique(), 'most_frequent_value': df[col].value_counts().index[0],'frequency': df[col].value_counts(normalize=True).values[0]}\n",
    "frequency = [rowbuilder(col) for col in df.select_dtypes(include=['category']).columns]\n",
    "skewed = pd.DataFrame(frequency)\n",
    "skewed = skewed[skewed['frequency'] >= 0.95]\n",
    "colsToDrop = np.union1d(colsToDrop, skewed['col'].values)\n",
    "colsToDrop\n",
    "del skewed\n",
    "del rowbuilder\n",
    "del frequency\n",
    "gc.collect()"
   ]
  },
  {
   "cell_type": "code",
   "execution_count": 9,
   "id": "eee4ba3a",
   "metadata": {},
   "outputs": [],
   "source": [
    "missing = df.isna().sum()\n",
    "missing = pd.DataFrame({'count': missing, '% of total': missing/len(df)*100}, index=df.columns)\n",
    "colsToDrop = np.union1d(colsToDrop, missing[missing['% of total'] >= 50].index.values)\n",
    "dropnaCols = missing[(missing['% of total'] > 0) & (missing['% of total'] <= 5)].index.values"
   ]
  },
  {
   "cell_type": "code",
   "execution_count": 10,
   "id": "07aeb320",
   "metadata": {},
   "outputs": [],
   "source": [
    "df['Flow Byts/s'].replace(np.inf, np.nan, inplace=True)\n",
    "df['Flow Pkts/s'].replace(np.inf, np.nan, inplace=True)\n",
    "dropnaCols = np.union1d(dropnaCols, ['Flow Byts/s', 'Flow Pkts/s'])"
   ]
  },
  {
   "cell_type": "code",
   "execution_count": 11,
   "id": "b513a3d3",
   "metadata": {},
   "outputs": [
    {
     "data": {
      "text/plain": [
       "array(['Bwd Blk Rate Avg', 'Bwd Byts/b Avg', 'Bwd PSH Flags',\n",
       "       'Bwd Pkts/b Avg', 'Bwd URG Flags', 'Dst IP', 'Dst Port',\n",
       "       'Fwd Blk Rate Avg', 'Fwd Byts/b Avg', 'Fwd PSH Flags',\n",
       "       'Fwd Pkts/b Avg', 'Fwd URG Flags', 'Src IP', 'Src Port'],\n",
       "      dtype=object)"
      ]
     },
     "execution_count": 11,
     "metadata": {},
     "output_type": "execute_result"
    }
   ],
   "source": [
    "colsToDrop\n"
   ]
  },
  {
   "cell_type": "code",
   "execution_count": 12,
   "id": "53706728",
   "metadata": {},
   "outputs": [
    {
     "data": {
      "text/plain": [
       "array(['Flow Byts/s', 'Flow Pkts/s'], dtype=object)"
      ]
     },
     "execution_count": 12,
     "metadata": {},
     "output_type": "execute_result"
    }
   ],
   "source": [
    "dropnaCols"
   ]
  },
  {
   "cell_type": "code",
   "execution_count": 13,
   "id": "6995d926",
   "metadata": {},
   "outputs": [
    {
     "data": {
      "text/plain": [
       "65"
      ]
     },
     "execution_count": 13,
     "metadata": {},
     "output_type": "execute_result"
    }
   ],
   "source": [
    "# perform actual drop\n",
    "df.drop(columns=colsToDrop, inplace=True)\n",
    "df.dropna(subset=dropnaCols, inplace=True)\n",
    "gc.collect()"
   ]
  },
  {
   "cell_type": "code",
   "execution_count": 14,
   "id": "3ff3135a",
   "metadata": {},
   "outputs": [
    {
     "data": {
      "text/plain": [
       "(637387, 69)"
      ]
     },
     "execution_count": 14,
     "metadata": {},
     "output_type": "execute_result"
    }
   ],
   "source": [
    "df.shape"
   ]
  },
  {
   "cell_type": "code",
   "execution_count": 15,
   "id": "bc7f183c",
   "metadata": {},
   "outputs": [],
   "source": [
    "negValCols = ['Flow Pkts/s', 'Flow IAT Mean', 'Flow IAT Max', 'Flow IAT Min', 'Bwd IAT Tot', 'Bwd IAT Mean', 'Bwd IAT Max', 'Bwd IAT Min']\n",
    "for col in negValCols:\n",
    "    df = df[df[col] >= 0]"
   ]
  },
  {
   "cell_type": "code",
   "execution_count": 16,
   "id": "5464c637",
   "metadata": {},
   "outputs": [
    {
     "name": "stdout",
     "output_type": "stream",
     "text": [
      "Memory usage of dataframe is 195.12 MB\n"
     ]
    }
   ],
   "source": [
    "mb = df.memory_usage().sum() / 1024**2\n",
    "print('Memory usage of dataframe is {:.2f} MB'.format(mb))"
   ]
  },
  {
   "cell_type": "code",
   "execution_count": 17,
   "id": "9c5bd5c0",
   "metadata": {},
   "outputs": [
    {
     "data": {
      "text/plain": [
       "Text(0.5, 1.0, 'Target Variable')"
      ]
     },
     "execution_count": 17,
     "metadata": {},
     "output_type": "execute_result"
    },
    {
     "data": {
      "image/png": "[encoded data removed]",
      "text/plain": [
       "<Figure size 432x288 with 2 Axes>"
      ]
     },
     "metadata": {
      "needs_background": "light"
     },
     "output_type": "display_data"
    }
   ],
   "source": [
    "# plotting the target variable\n",
    "labelCount = df['Label'].value_counts(normalize=True)*100\n",
    "ax = sns.barplot(x=labelCount.index, y=labelCount.values)\n",
    "ax1 = ax.twinx()\n",
    "ax.set_ylabel('Frequency [%]')\n",
    "ax1.set_ylabel(\"Count (in millions)\")\n",
    "ax1.set_ylim(0, len(df)/10**6)\n",
    "ax.set_ylim(0, 100)\n",
    "plt.title('Target Variable')"
   ]
  },
  {
   "cell_type": "code",
   "execution_count": 18,
   "id": "eb95f13e",
   "metadata": {},
   "outputs": [],
   "source": [
    "num_cols = df.select_dtypes(exclude=['category', 'datetime64[ns]']).columns\n",
    "fwd_cols = [col for col in num_cols if 'Fwd' in col]\n",
    "bwd_cols = [col for col in num_cols if 'Bwd' in col]"
   ]
  },
  {
   "cell_type": "code",
   "execution_count": 19,
   "id": "eb7bf0d3",
   "metadata": {},
   "outputs": [
    {
     "name": "stderr",
     "output_type": "stream",
     "text": [
      "C:\\Users\\Gabriel Molina\\Anaconda3\\lib\\site-packages\\ipykernel_launcher.py:2: DeprecationWarning: `np.bool` is a deprecated alias for the builtin `bool`. To silence this warning, use `bool` by itself. Doing this will not modify any behavior and is safe. If you specifically wanted the numpy scalar type, use `np.bool_` here.\n",
      "Deprecated in NumPy 1.20; for more details and guidance: https://numpy.org/devdocs/release/1.20.0-notes.html#deprecations\n",
      "  \n"
     ]
    },
    {
     "data": {
      "text/plain": [
       "<AxesSubplot:>"
      ]
     },
     "execution_count": 19,
     "metadata": {},
     "output_type": "execute_result"
    },
    {
     "data": {
      "image/png": "[encoded data removed]",
      "text/plain": [
       "<Figure size 720x720 with 2 Axes>"
      ]
     },
     "metadata": {
      "needs_background": "light"
     },
     "output_type": "display_data"
    }
   ],
   "source": [
    "corr = df[fwd_cols].corr()\n",
    "mask = np.triu(np.ones_like(corr, dtype=np.bool))\n",
    "plt.subplots(figsize=(10,10))\n",
    "sns.heatmap(corr, mask=mask)"
   ]
  },
  {
   "cell_type": "code",
   "execution_count": 20,
   "id": "3d466b02",
   "metadata": {},
   "outputs": [],
   "source": [
    "def getCorrelatedFeatures(corr):\n",
    "    correlatedFeatures = set()\n",
    "    for i in range(len(corr.columns)):\n",
    "        for j in range(i):\n",
    "            if abs(corr.iloc[i, j]) > 0.7:\n",
    "                correlatedFeatures.add(corr.columns[i])\n",
    "    return correlatedFeatures"
   ]
  },
  {
   "cell_type": "code",
   "execution_count": 21,
   "id": "c609d755",
   "metadata": {},
   "outputs": [
    {
     "data": {
      "text/plain": [
       "{'Fwd Act Data Pkts',\n",
       " 'Fwd Header Len',\n",
       " 'Fwd IAT Max',\n",
       " 'Fwd IAT Min',\n",
       " 'Fwd Pkt Len Mean',\n",
       " 'Fwd Pkt Len Std',\n",
       " 'Fwd Seg Size Avg',\n",
       " 'Fwd Seg Size Min',\n",
       " 'Subflow Fwd Byts',\n",
       " 'Subflow Fwd Pkts',\n",
       " 'TotLen Fwd Pkts'}"
      ]
     },
     "execution_count": 21,
     "metadata": {},
     "output_type": "execute_result"
    }
   ],
   "source": [
    "correlatedFeatures = set()\n",
    "correlatedFeatures = correlatedFeatures | getCorrelatedFeatures(corr)\n",
    "correlatedFeatures"
   ]
  },
  {
   "cell_type": "code",
   "execution_count": 22,
   "id": "eddebba4",
   "metadata": {},
   "outputs": [
    {
     "name": "stderr",
     "output_type": "stream",
     "text": [
      "C:\\Users\\Gabriel Molina\\Anaconda3\\lib\\site-packages\\ipykernel_launcher.py:2: DeprecationWarning: `np.bool` is a deprecated alias for the builtin `bool`. To silence this warning, use `bool` by itself. Doing this will not modify any behavior and is safe. If you specifically wanted the numpy scalar type, use `np.bool_` here.\n",
      "Deprecated in NumPy 1.20; for more details and guidance: https://numpy.org/devdocs/release/1.20.0-notes.html#deprecations\n",
      "  \n"
     ]
    },
    {
     "data": {
      "text/plain": [
       "<AxesSubplot:>"
      ]
     },
     "execution_count": 22,
     "metadata": {},
     "output_type": "execute_result"
    },
    {
     "data": {
      "image/png": "[encoded data removed]",
      "text/plain": [
       "<Figure size 720x720 with 2 Axes>"
      ]
     },
     "metadata": {
      "needs_background": "light"
     },
     "output_type": "display_data"
    }
   ],
   "source": [
    "corr = df[bwd_cols].corr()\n",
    "mask = np.triu(np.ones_like(corr, dtype=np.bool))\n",
    "plt.subplots(figsize=(10,10))\n",
    "sns.heatmap(corr, mask=mask)"
   ]
  },
  {
   "cell_type": "code",
   "execution_count": 23,
   "id": "1a56321b",
   "metadata": {},
   "outputs": [
    {
     "data": {
      "text/plain": [
       "{'Bwd Header Len',\n",
       " 'Bwd IAT Max',\n",
       " 'Bwd IAT Min',\n",
       " 'Bwd Pkt Len Mean',\n",
       " 'Bwd Pkt Len Std',\n",
       " 'Bwd Seg Size Avg',\n",
       " 'Fwd Act Data Pkts',\n",
       " 'Fwd Header Len',\n",
       " 'Fwd IAT Max',\n",
       " 'Fwd IAT Min',\n",
       " 'Fwd Pkt Len Mean',\n",
       " 'Fwd Pkt Len Std',\n",
       " 'Fwd Seg Size Avg',\n",
       " 'Fwd Seg Size Min',\n",
       " 'Subflow Bwd Byts',\n",
       " 'Subflow Bwd Pkts',\n",
       " 'Subflow Fwd Byts',\n",
       " 'Subflow Fwd Pkts',\n",
       " 'TotLen Bwd Pkts',\n",
       " 'TotLen Fwd Pkts'}"
      ]
     },
     "execution_count": 23,
     "metadata": {},
     "output_type": "execute_result"
    }
   ],
   "source": [
    "correlatedFeatures = correlatedFeatures | getCorrelatedFeatures(corr)\n",
    "correlatedFeatures"
   ]
  },
  {
   "cell_type": "code",
   "execution_count": 42,
   "id": "5e0dbc7a",
   "metadata": {},
   "outputs": [
    {
     "data": {
      "text/plain": [
       "20"
      ]
     },
     "execution_count": 42,
     "metadata": {},
     "output_type": "execute_result"
    }
   ],
   "source": [
    "list(correlatedFeatures)\n",
    "len(correlatedFeatures)"
   ]
  },
  {
   "cell_type": "code",
   "execution_count": 25,
   "id": "ab2eaf45",
   "metadata": {},
   "outputs": [],
   "source": [
    "df.drop(columns=correlatedFeatures, inplace=True)"
   ]
  },
  {
   "cell_type": "code",
   "execution_count": 26,
   "id": "0b6711d1",
   "metadata": {},
   "outputs": [],
   "source": [
    "df.drop(['Timestamp'], axis=1, inplace=True)"
   ]
  },
  {
   "cell_type": "code",
   "execution_count": 27,
   "id": "b5c20902",
   "metadata": {},
   "outputs": [
    {
     "data": {
      "text/plain": [
       "(637367, 48)"
      ]
     },
     "execution_count": 27,
     "metadata": {},
     "output_type": "execute_result"
    }
   ],
   "source": [
    "df.shape"
   ]
  },
  {
   "cell_type": "code",
   "execution_count": 28,
   "id": "ff8c6870",
   "metadata": {},
   "outputs": [],
   "source": [
    "from sklearn.model_selection import StratifiedShuffleSplit\n",
    "\n",
    "split = StratifiedShuffleSplit(n_splits=1, test_size=0.33, random_state=42)\n",
    "for train_index, test_index in split.split(df, df[\"Label\"]):\n",
    "    traindf = df.iloc[train_index]\n",
    "    testdf = df.iloc[test_index]\n",
    "\n",
    "gc.collect();"
   ]
  },
  {
   "cell_type": "code",
   "execution_count": 29,
   "id": "305adbe7",
   "metadata": {},
   "outputs": [
    {
     "data": {
      "text/html": [
       "<div>\n",
       "<style scoped>\n",
       "    .dataframe tbody tr th:only-of-type {\n",
       "        vertical-align: middle;\n",
       "    }\n",
       "\n",
       "    .dataframe tbody tr th {\n",
       "        vertical-align: top;\n",
       "    }\n",
       "\n",
       "    .dataframe thead th {\n",
       "        text-align: right;\n",
       "    }\n",
       "</style>\n",
       "<table border=\"1\" class=\"dataframe\">\n",
       "  <thead>\n",
       "    <tr style=\"text-align: right;\">\n",
       "      <th></th>\n",
       "      <th>Protocol</th>\n",
       "      <th>Flow Duration</th>\n",
       "      <th>Tot Fwd Pkts</th>\n",
       "      <th>Tot Bwd Pkts</th>\n",
       "      <th>Fwd Pkt Len Max</th>\n",
       "      <th>Fwd Pkt Len Min</th>\n",
       "      <th>Bwd Pkt Len Max</th>\n",
       "      <th>Bwd Pkt Len Min</th>\n",
       "      <th>Flow Byts/s</th>\n",
       "      <th>Flow Pkts/s</th>\n",
       "      <th>...</th>\n",
       "      <th>Init Bwd Win Byts</th>\n",
       "      <th>Active Mean</th>\n",
       "      <th>Active Std</th>\n",
       "      <th>Active Max</th>\n",
       "      <th>Active Min</th>\n",
       "      <th>Idle Mean</th>\n",
       "      <th>Idle Std</th>\n",
       "      <th>Idle Max</th>\n",
       "      <th>Idle Min</th>\n",
       "      <th>Label</th>\n",
       "    </tr>\n",
       "  </thead>\n",
       "  <tbody>\n",
       "    <tr>\n",
       "      <th>29032</th>\n",
       "      <td>6</td>\n",
       "      <td>4394242</td>\n",
       "      <td>4</td>\n",
       "      <td>4</td>\n",
       "      <td>935.0</td>\n",
       "      <td>0.0</td>\n",
       "      <td>346.0</td>\n",
       "      <td>0.0</td>\n",
       "      <td>291.517853</td>\n",
       "      <td>1.820564</td>\n",
       "      <td>...</td>\n",
       "      <td>211</td>\n",
       "      <td>0.0</td>\n",
       "      <td>0.0</td>\n",
       "      <td>0.0</td>\n",
       "      <td>0.0</td>\n",
       "      <td>0.0</td>\n",
       "      <td>0.0</td>\n",
       "      <td>0.0</td>\n",
       "      <td>0.0</td>\n",
       "      <td>ddos</td>\n",
       "    </tr>\n",
       "    <tr>\n",
       "      <th>347522</th>\n",
       "      <td>6</td>\n",
       "      <td>172450</td>\n",
       "      <td>10</td>\n",
       "      <td>10</td>\n",
       "      <td>421.0</td>\n",
       "      <td>0.0</td>\n",
       "      <td>1448.0</td>\n",
       "      <td>0.0</td>\n",
       "      <td>41896.203125</td>\n",
       "      <td>115.975647</td>\n",
       "      <td>...</td>\n",
       "      <td>123</td>\n",
       "      <td>0.0</td>\n",
       "      <td>0.0</td>\n",
       "      <td>0.0</td>\n",
       "      <td>0.0</td>\n",
       "      <td>0.0</td>\n",
       "      <td>0.0</td>\n",
       "      <td>0.0</td>\n",
       "      <td>0.0</td>\n",
       "      <td>Benign</td>\n",
       "    </tr>\n",
       "    <tr>\n",
       "      <th>470805</th>\n",
       "      <td>6</td>\n",
       "      <td>5153775</td>\n",
       "      <td>4</td>\n",
       "      <td>5</td>\n",
       "      <td>935.0</td>\n",
       "      <td>0.0</td>\n",
       "      <td>306.0</td>\n",
       "      <td>0.0</td>\n",
       "      <td>240.794373</td>\n",
       "      <td>1.746293</td>\n",
       "      <td>...</td>\n",
       "      <td>211</td>\n",
       "      <td>0.0</td>\n",
       "      <td>0.0</td>\n",
       "      <td>0.0</td>\n",
       "      <td>0.0</td>\n",
       "      <td>0.0</td>\n",
       "      <td>0.0</td>\n",
       "      <td>0.0</td>\n",
       "      <td>0.0</td>\n",
       "      <td>ddos</td>\n",
       "    </tr>\n",
       "    <tr>\n",
       "      <th>13719</th>\n",
       "      <td>6</td>\n",
       "      <td>3081553</td>\n",
       "      <td>3</td>\n",
       "      <td>6</td>\n",
       "      <td>935.0</td>\n",
       "      <td>0.0</td>\n",
       "      <td>363.0</td>\n",
       "      <td>0.0</td>\n",
       "      <td>421.216187</td>\n",
       "      <td>2.920605</td>\n",
       "      <td>...</td>\n",
       "      <td>225</td>\n",
       "      <td>0.0</td>\n",
       "      <td>0.0</td>\n",
       "      <td>0.0</td>\n",
       "      <td>0.0</td>\n",
       "      <td>0.0</td>\n",
       "      <td>0.0</td>\n",
       "      <td>0.0</td>\n",
       "      <td>0.0</td>\n",
       "      <td>ddos</td>\n",
       "    </tr>\n",
       "    <tr>\n",
       "      <th>118188</th>\n",
       "      <td>17</td>\n",
       "      <td>312</td>\n",
       "      <td>1</td>\n",
       "      <td>1</td>\n",
       "      <td>35.0</td>\n",
       "      <td>35.0</td>\n",
       "      <td>51.0</td>\n",
       "      <td>51.0</td>\n",
       "      <td>275641.031250</td>\n",
       "      <td>6410.256348</td>\n",
       "      <td>...</td>\n",
       "      <td>4294967295</td>\n",
       "      <td>0.0</td>\n",
       "      <td>0.0</td>\n",
       "      <td>0.0</td>\n",
       "      <td>0.0</td>\n",
       "      <td>0.0</td>\n",
       "      <td>0.0</td>\n",
       "      <td>0.0</td>\n",
       "      <td>0.0</td>\n",
       "      <td>Benign</td>\n",
       "    </tr>\n",
       "  </tbody>\n",
       "</table>\n",
       "<p>5 rows × 48 columns</p>\n",
       "</div>"
      ],
      "text/plain": [
       "        Protocol  Flow Duration  Tot Fwd Pkts  Tot Bwd Pkts  Fwd Pkt Len Max  \\\n",
       "29032          6        4394242             4             4            935.0   \n",
       "347522         6         172450            10            10            421.0   \n",
       "470805         6        5153775             4             5            935.0   \n",
       "13719          6        3081553             3             6            935.0   \n",
       "118188        17            312             1             1             35.0   \n",
       "\n",
       "        Fwd Pkt Len Min  Bwd Pkt Len Max  Bwd Pkt Len Min    Flow Byts/s  \\\n",
       "29032               0.0            346.0              0.0     291.517853   \n",
       "347522              0.0           1448.0              0.0   41896.203125   \n",
       "470805              0.0            306.0              0.0     240.794373   \n",
       "13719               0.0            363.0              0.0     421.216187   \n",
       "118188             35.0             51.0             51.0  275641.031250   \n",
       "\n",
       "        Flow Pkts/s  ...  Init Bwd Win Byts  Active Mean  Active Std  \\\n",
       "29032      1.820564  ...                211          0.0         0.0   \n",
       "347522   115.975647  ...                123          0.0         0.0   \n",
       "470805     1.746293  ...                211          0.0         0.0   \n",
       "13719      2.920605  ...                225          0.0         0.0   \n",
       "118188  6410.256348  ...         4294967295          0.0         0.0   \n",
       "\n",
       "        Active Max  Active Min  Idle Mean  Idle Std  Idle Max  Idle Min  \\\n",
       "29032          0.0         0.0        0.0       0.0       0.0       0.0   \n",
       "347522         0.0         0.0        0.0       0.0       0.0       0.0   \n",
       "470805         0.0         0.0        0.0       0.0       0.0       0.0   \n",
       "13719          0.0         0.0        0.0       0.0       0.0       0.0   \n",
       "118188         0.0         0.0        0.0       0.0       0.0       0.0   \n",
       "\n",
       "         Label  \n",
       "29032     ddos  \n",
       "347522  Benign  \n",
       "470805    ddos  \n",
       "13719     ddos  \n",
       "118188  Benign  \n",
       "\n",
       "[5 rows x 48 columns]"
      ]
     },
     "execution_count": 29,
     "metadata": {},
     "output_type": "execute_result"
    }
   ],
   "source": [
    "traindf.head()"
   ]
  },
  {
   "cell_type": "code",
   "execution_count": 30,
   "id": "fc3eb545",
   "metadata": {},
   "outputs": [],
   "source": [
    "x = traindf.iloc[:,1:-1]\n",
    "y = traindf.iloc[:,-1].values"
   ]
  },
  {
   "cell_type": "code",
   "execution_count": 31,
   "id": "0b591910",
   "metadata": {},
   "outputs": [
    {
     "data": {
      "text/plain": [
       "(427035, 46)"
      ]
     },
     "execution_count": 31,
     "metadata": {},
     "output_type": "execute_result"
    }
   ],
   "source": [
    "x.shape"
   ]
  },
  {
   "cell_type": "code",
   "execution_count": 32,
   "id": "502432a2",
   "metadata": {},
   "outputs": [
    {
     "data": {
      "text/plain": [
       "(427035,)"
      ]
     },
     "execution_count": 32,
     "metadata": {},
     "output_type": "execute_result"
    }
   ],
   "source": [
    "y.shape"
   ]
  },
  {
   "cell_type": "code",
   "execution_count": 33,
   "id": "09bf051b",
   "metadata": {},
   "outputs": [],
   "source": [
    "xx = testdf.iloc[:,1:-1]\n",
    "yy = testdf.iloc[:,-1].values"
   ]
  },
  {
   "cell_type": "code",
   "execution_count": 34,
   "id": "9be8714e",
   "metadata": {},
   "outputs": [
    {
     "data": {
      "text/plain": [
       "(210332, 46)"
      ]
     },
     "execution_count": 34,
     "metadata": {},
     "output_type": "execute_result"
    }
   ],
   "source": [
    "xx.shape"
   ]
  },
  {
   "cell_type": "code",
   "execution_count": 35,
   "id": "53d4da2a",
   "metadata": {},
   "outputs": [
    {
     "data": {
      "text/plain": [
       "(210332,)"
      ]
     },
     "execution_count": 35,
     "metadata": {},
     "output_type": "execute_result"
    }
   ],
   "source": [
    "yy.shape"
   ]
  },
  {
   "cell_type": "code",
   "execution_count": 36,
   "id": "dd9272c2",
   "metadata": {},
   "outputs": [
    {
     "data": {
      "text/plain": [
       "63"
      ]
     },
     "execution_count": 36,
     "metadata": {},
     "output_type": "execute_result"
    }
   ],
   "source": [
    "gc.collect()"
   ]
  },
  {
   "cell_type": "code",
   "execution_count": 37,
   "id": "83fe01cd",
   "metadata": {},
   "outputs": [],
   "source": [
    "from sklearn.naive_bayes import MultinomialNB\n",
    "from sklearn.metrics import accuracy_score, confusion_matrix, classification_report"
   ]
  },
  {
   "cell_type": "code",
   "execution_count": 38,
   "id": "43dfbe18",
   "metadata": {},
   "outputs": [
    {
     "data": {
      "text/plain": [
       "MultinomialNB()"
      ]
     },
     "execution_count": 38,
     "metadata": {},
     "output_type": "execute_result"
    }
   ],
   "source": [
    "NB_clf = MultinomialNB()\n",
    "NB_clf.fit(x,y)"
   ]
  },
  {
   "cell_type": "code",
   "execution_count": 39,
   "id": "cc7e5ab7",
   "metadata": {},
   "outputs": [
    {
     "name": "stdout",
     "output_type": "stream",
     "text": [
      "              precision    recall  f1-score   support\n",
      "\n",
      "      Benign       0.91      0.96      0.94    103549\n",
      "        DDoS       0.96      0.91      0.94    106783\n",
      "\n",
      "    accuracy                           0.94    210332\n",
      "   macro avg       0.94      0.94      0.94    210332\n",
      "weighted avg       0.94      0.94      0.94    210332\n",
      "\n",
      "Accuracy score for Naive Bayes:  0.9366858110035563\n"
     ]
    },
    {
     "data": {
      "text/plain": [
       "<AxesSubplot:>"
      ]
     },
     "execution_count": 39,
     "metadata": {},
     "output_type": "execute_result"
    },
    {
     "data": {
      "image/png": "[encoded data removed]",
      "text/plain": [
       "<Figure size 432x288 with 2 Axes>"
      ]
     },
     "metadata": {
      "needs_background": "light"
     },
     "output_type": "display_data"
    }
   ],
   "source": [
    "yy_predNB = NB_clf.predict(xx)\n",
    "target_labels = ['Benign','DDoS']\n",
    "print(classification_report(yy, yy_predNB, target_names=target_labels))\n",
    "print(\"Accuracy score for Naive Bayes: \", accuracy_score(yy, yy_predNB))\n",
    "cm = confusion_matrix(yy, yy_predNB)\n",
    "group_names = ['True Neg','False Pos','False Neg','True Pos']\n",
    "group_counts = [\"{0:0.0f}\".format(value) for value in cm.flatten()]\n",
    "\n",
    "labels = [f\"{v1}\\n{v2}\" for v1, v2, in zip(group_names,group_counts)]\n",
    "labels = np.asarray(labels).reshape(2,2)\n",
    "sns.heatmap(cm, xticklabels=['Benign','DDoS'], yticklabels=['Benign','DDoS'], annot=labels, fmt='')"
   ]
  },
  {
   "cell_type": "code",
   "execution_count": 40,
   "id": "c7f18b24",
   "metadata": {},
   "outputs": [],
   "source": [
    "from sklearn.ensemble import RandomForestClassifier\n",
    "from sklearn.model_selection import cross_val_score, cross_val_predict, cross_validate\n",
    "\n",
    "rfc =  RandomForestClassifier(n_estimators=50, criterion=\"entropy\")"
   ]
  },
  {
   "cell_type": "code",
   "execution_count": 41,
   "id": "4f17e1f0",
   "metadata": {},
   "outputs": [
    {
     "name": "stdout",
     "output_type": "stream",
     "text": [
      "              precision    recall  f1-score   support\n",
      "\n",
      "      Benign       1.00      1.00      1.00    103549\n",
      "        ddos       1.00      1.00      1.00    106783\n",
      "\n",
      "    accuracy                           1.00    210332\n",
      "   macro avg       1.00      1.00      1.00    210332\n",
      "weighted avg       1.00      1.00      1.00    210332\n",
      "\n",
      "Accuracy Score of Random Forest Classifier :  0.9992488066485365\n"
     ]
    },
    {
     "data": {
      "text/plain": [
       "<AxesSubplot:>"
      ]
     },
     "execution_count": 41,
     "metadata": {},
     "output_type": "execute_result"
    },
    {
     "data": {
      "image/png": "[encoded data removed]",
      "text/plain": [
       "<Figure size 432x288 with 2 Axes>"
      ]
     },
     "metadata": {
      "needs_background": "light"
     },
     "output_type": "display_data"
    }
   ],
   "source": [
    "rfc.fit(x,y)\n",
    "\n",
    "yy_predRFC = rfc.predict(xx)\n",
    "print(classification_report(yy, yy_predRFC))\n",
    "print(\"Accuracy Score of Random Forest Classifier : \", accuracy_score(yy, yy_predRFC))\n",
    "cm = confusion_matrix(yy, yy_predRFC)\n",
    "group_names = ['True Neg','False Pos','False Neg','True Pos']\n",
    "group_counts = [\"{0:0.0f}\".format(value) for value in cm.flatten()]\n",
    "labels = [f\"{v1}\\n{v2}\" for v1, v2, in zip(group_names,group_counts)]\n",
    "labels = np.asarray(labels).reshape(2,2)\n",
    "sns.heatmap(cm, xticklabels=['Benign','DDoS'], yticklabels=['Benign','DDoS'], annot=labels, fmt='')"
   ]
  },
  {
   "cell_type": "code",
   "execution_count": null,
   "id": "4c90e5c1",
   "metadata": {},
   "outputs": [],
   "source": []
  }
 ],
 "metadata": {
  "kernelspec": {
   "display_name": "Python 3 (ipykernel)",
   "language": "python",
   "name": "python3"
  },
  "language_info": {
   "codemirror_mode": {
    "name": "ipython",
    "version": 3
   },
   "file_extension": ".py",
   "mimetype": "text/x-python",
   "name": "python",
   "nbconvert_exporter": "python",
   "pygments_lexer": "ipython3",
   "version": "3.7.4"
  }
 },
 "nbformat": 4,
 "nbformat_minor": 5
}
